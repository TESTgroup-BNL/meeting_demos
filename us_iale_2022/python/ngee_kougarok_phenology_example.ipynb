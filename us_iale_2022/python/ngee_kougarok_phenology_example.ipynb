{
 "cells": [
  {
   "cell_type": "code",
   "execution_count": null,
   "id": "2efdad9d-7f6d-4351-bbed-3d23decbc7d7",
   "metadata": {},
   "outputs": [],
   "source": [
    "####### Run a simple analysis of terrain around a selected location\n",
    "\n",
    "# Step 1: Sign up for a Google Earth Engine Account here:\n",
    "# https://earthengine.google.com/signup/\n",
    "\n",
    "# you will use this to authenticate your account with GEE to run the script and\n",
    "# utilize GEE layers\n",
    "\n",
    "# Step 2: Setup a local conda environment on your machine to run Python and GEE\n",
    "\n",
    "# Step 3: Install python, geemap, earthengine-api and pandas in your conda environment\n",
    "\n",
    "# Step 4: "
   ]
  },
  {
   "cell_type": "code",
   "execution_count": null,
   "id": "e5d81e3b-e07a-422c-af4c-2e8a9b96fbc4",
   "metadata": {},
   "outputs": [],
   "source": [
    "# get any missing modules\n",
    "! pip install numpy matplotlib earthengine-api geemap pandas "
   ]
  },
  {
   "cell_type": "code",
   "execution_count": null,
   "id": "909a56a3-58bf-49fa-8c1d-f9a9dec06d5e",
   "metadata": {},
   "outputs": [],
   "source": [
    "# setup modules\n",
    "import numpy as np\n",
    "import matplotlib.pyplot as pl\n",
    "import matplotlib as mpl\n",
    "import pandas as pd\n",
    "import sys,os,os.path,tempfile\n",
    "\n",
    "# spatial modules\n",
    "import ee\n",
    "#import geemap # currently not using as colorbars dont load properly in google collab\n",
    "import geemap.colormaps as cm\n",
    "import geemap.foliumap as geemap # use folium instead so coloramps work on goolge collab\n",
    "#import geemap as geemap\n",
    "#https://geemap.org/notebooks/geemap_and_folium/\n",
    "#https://geemap.org/notebooks/49_colorbar/#categorical-colorbar\n",
    "    \n",
    "import warnings\n",
    "warnings.filterwarnings('ignore') #don't display warnings"
   ]
  },
  {
   "cell_type": "code",
   "execution_count": null,
   "id": "96898594-8748-4301-acf3-bdfea6b50dfd",
   "metadata": {},
   "outputs": [],
   "source": [
    "#\\\\modex.bnl.gov\\data2\\dyang\\projects\\albedo_scaling\\ngee_watersheds"
   ]
  }
 ],
 "metadata": {
  "kernelspec": {
   "display_name": "Python 3 (ipykernel)",
   "language": "python",
   "name": "python3"
  },
  "language_info": {
   "codemirror_mode": {
    "name": "ipython",
    "version": 3
   },
   "file_extension": ".py",
   "mimetype": "text/x-python",
   "name": "python",
   "nbconvert_exporter": "python",
   "pygments_lexer": "ipython3",
   "version": "3.9.6"
  }
 },
 "nbformat": 4,
 "nbformat_minor": 5
}
